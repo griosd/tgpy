{
 "cells": [
  {
   "cell_type": "code",
   "execution_count": 17,
   "id": "7772ac6b",
   "metadata": {},
   "outputs": [],
   "source": [
    "import sys\n",
    "# Hay que ejecutar esta línea antes de importar el módulo.\n",
    "sys.path.append(\"C:/Users/poker/PycharmProjects/tgpy\")\n",
    "# Ahora se puede importar el módulo.\n",
    "import tgpy as tg\n",
    "import torch"
   ]
  },
  {
   "cell_type": "code",
   "execution_count": 9,
   "id": "a32b76cb",
   "metadata": {},
   "outputs": [],
   "source": [
    "npriors = 3 # 1, 2, 3\n",
    "ngroups = 10 # any positive int\n",
    "nparams = 10 # number of chains\n",
    "niters = 300 # number of iterations"
   ]
  },
  {
   "cell_type": "code",
   "execution_count": 14,
   "id": "800849dc",
   "metadata": {},
   "outputs": [
    {
     "ename": "TypeError",
     "evalue": "__init__() missing 1 required positional argument: 'parameters'",
     "output_type": "error",
     "traceback": [
      "\u001b[1;31m---------------------------------------------------------------------------\u001b[0m",
      "\u001b[1;31mTypeError\u001b[0m                                 Traceback (most recent call last)",
      "Cell \u001b[1;32mIn[14], line 7\u001b[0m\n\u001b[0;32m      3\u001b[0m prior1 \u001b[38;5;241m=\u001b[39m tg\u001b[38;5;241m.\u001b[39mTgPrior(\u001b[38;5;124m'\u001b[39m\u001b[38;5;124mprior1\u001b[39m\u001b[38;5;124m'\u001b[39m, [\u001b[38;5;124m'\u001b[39m\u001b[38;5;124mg\u001b[39m\u001b[38;5;132;01m{}\u001b[39;00m\u001b[38;5;124m'\u001b[39m\u001b[38;5;241m.\u001b[39mformat(i) \u001b[38;5;28;01mfor\u001b[39;00m i \u001b[38;5;129;01min\u001b[39;00m \u001b[38;5;28mrange\u001b[39m(ngroups)], dim\u001b[38;5;241m=\u001b[39mnparams, \n\u001b[0;32m      4\u001b[0m                    low\u001b[38;5;241m=\u001b[39m\u001b[38;5;241m-\u001b[39m\u001b[38;5;241m1\u001b[39m, high\u001b[38;5;241m=\u001b[39m\u001b[38;5;241m10\u001b[39m, alpha\u001b[38;5;241m=\u001b[39m\u001b[38;5;241m2\u001b[39m, beta\u001b[38;5;241m=\u001b[39m\u001b[38;5;241m3\u001b[39m) \u001b[38;5;66;03m# masa a la izquierda\u001b[39;00m\n\u001b[0;32m      5\u001b[0m prior2 \u001b[38;5;241m=\u001b[39m tg\u001b[38;5;241m.\u001b[39mTgPrior(\u001b[38;5;124m'\u001b[39m\u001b[38;5;124mprior2\u001b[39m\u001b[38;5;124m'\u001b[39m, [\u001b[38;5;124m'\u001b[39m\u001b[38;5;124mg\u001b[39m\u001b[38;5;132;01m{}\u001b[39;00m\u001b[38;5;124m'\u001b[39m\u001b[38;5;241m.\u001b[39mformat(i) \u001b[38;5;28;01mfor\u001b[39;00m i \u001b[38;5;129;01min\u001b[39;00m \u001b[38;5;28mrange\u001b[39m(ngroups)], dim\u001b[38;5;241m=\u001b[39mnparams, \n\u001b[0;32m      6\u001b[0m                    low\u001b[38;5;241m=\u001b[39m\u001b[38;5;241m-\u001b[39m\u001b[38;5;241m10\u001b[39m, high\u001b[38;5;241m=\u001b[39m\u001b[38;5;241m1\u001b[39m, alpha\u001b[38;5;241m=\u001b[39m\u001b[38;5;241m2\u001b[39m, beta\u001b[38;5;241m=\u001b[39m\u001b[38;5;241m1\u001b[39m) \u001b[38;5;66;03m# masa a la derecha\u001b[39;00m\n\u001b[1;32m----> 7\u001b[0m prior_joint \u001b[38;5;241m=\u001b[39m \u001b[43mtg\u001b[49m\u001b[38;5;241;43m.\u001b[39;49m\u001b[43mTgJointPrior\u001b[49m\u001b[43m(\u001b[49m\u001b[43mprior0\u001b[49m\u001b[43m)\u001b[49m\n\u001b[0;32m     11\u001b[0m \u001b[38;5;28;01mif\u001b[39;00m npriors \u001b[38;5;241m==\u001b[39m \u001b[38;5;241m1\u001b[39m:\n\u001b[0;32m     12\u001b[0m     k \u001b[38;5;241m=\u001b[39m tg\u001b[38;5;241m.\u001b[39mDummyKernel(prior0)\n",
      "\u001b[1;31mTypeError\u001b[0m: __init__() missing 1 required positional argument: 'parameters'"
     ]
    }
   ],
   "source": [
    "prior0 = tg.TgPrior('prior0', ['g{}'.format(i) for i in range(ngroups)], dim=nparams, \n",
    "                   low=-4, high=4, alpha=5, beta=5) # simetrico\n",
    "prior1 = tg.TgPrior('prior1', ['g{}'.format(i) for i in range(ngroups)], dim=nparams, \n",
    "                   low=-1, high=10, alpha=2, beta=3) # masa a la izquierda\n",
    "prior2 = tg.TgPrior('prior2', ['g{}'.format(i) for i in range(ngroups)], dim=nparams, \n",
    "                   low=-10, high=1, alpha=2, beta=1) # masa a la derecha\n",
    "prior_joint = tg.TgJointPrior(prior0)\n",
    "\n",
    "\n",
    "\n",
    "if npriors == 1:\n",
    "    k = tg.DummyKernel(prior0)\n",
    "elif npriors == 2:\n",
    "    k = tg.DummyKernel(prior0, prior1)\n",
    "else:\n",
    "    k = tg.DummyKernel(prior0, prior1, prior2)\n",
    "\n",
    "cov = tg.CovarianceTransport(k, noise=None)\n",
    "tgp = tg.TGP([cov], dt=None, annealing=0)\n",
    "\n",
    "tgp.sample_priors()\n",
    "tgp.plot_priors()"
   ]
  },
  {
   "cell_type": "code",
   "execution_count": 35,
   "id": "3cd1550f",
   "metadata": {},
   "outputs": [
    {
     "ename": "TypeError",
     "evalue": "object of type 'BetaLocation' has no len()",
     "output_type": "error",
     "traceback": [
      "\u001b[1;31m---------------------------------------------------------------------------\u001b[0m",
      "\u001b[1;31mTypeError\u001b[0m                                 Traceback (most recent call last)",
      "Cell \u001b[1;32mIn[35], line 2\u001b[0m\n\u001b[0;32m      1\u001b[0m \u001b[38;5;28;01mfor\u001b[39;00m d \u001b[38;5;129;01min\u001b[39;00m prior0\u001b[38;5;241m.\u001b[39md\u001b[38;5;241m.\u001b[39mvalues():\n\u001b[1;32m----> 2\u001b[0m     cdfpriors \u001b[38;5;241m=\u001b[39m torch\u001b[38;5;241m.\u001b[39mzeros(\u001b[38;5;28;43mlen\u001b[39;49m\u001b[43m(\u001b[49m\u001b[43md\u001b[49m\u001b[43m)\u001b[49m, dtype\u001b[38;5;241m=\u001b[39mtorch\u001b[38;5;241m.\u001b[39mfloat32)\n\u001b[0;32m      3\u001b[0m     cdfpriors \u001b[38;5;241m+\u001b[39m\u001b[38;5;241m=\u001b[39m tg\u001b[38;5;241m.\u001b[39mcdf(d\u001b[38;5;241m.\u001b[39mdata, d\u001b[38;5;241m.\u001b[39mdata)\n\u001b[0;32m      4\u001b[0m     \u001b[38;5;28mself\u001b[39m\u001b[38;5;241m.\u001b[39mdistribution \u001b[38;5;241m=\u001b[39m tg\u001b[38;5;241m.\u001b[39minv_cdf(cdfpriors, \u001b[38;5;28mself\u001b[39m\u001b[38;5;241m.\u001b[39mprob)\n",
      "\u001b[1;31mTypeError\u001b[0m: object of type 'BetaLocation' has no len()"
     ]
    }
   ],
   "source": [
    "for d in prior0.d.values():\n",
    "    cdfpriors = torch.zeros(len(d), dtype=torch.float32)\n",
    "    cdfpriors += tg.cdf(d.data, d.data)\n",
    "    self.distribution = tg.inv_cdf(cdfpriors, self.prob)"
   ]
  },
  {
   "cell_type": "code",
   "execution_count": null,
   "id": "7a3a0e7d",
   "metadata": {},
   "outputs": [],
   "source": [
    "prior0 = tg.TgPrior('prior0', ['g{}'.format(i) for i in range(ngroups)], dim=nparams, \n",
    "                   low=-4, high=4, alpha=5, beta=5) # simetrico\n",
    "prior1 = tg.TgPrior('prior1', ['g{}'.format(i) for i in range(ngroups)], dim=nparams, \n",
    "                   low=-1, high=10, alpha=2, beta=3) # masa a la izquierda\n",
    "prior2 = tg.TgPrior('prior2', ['g{}'.format(i) for i in range(ngroups)], dim=nparams, \n",
    "                   low=-10, high=1, alpha=2, beta=1) # masa a la derecha\n",
    "prior_joint = tg.TgJointPrior(prior0, prior1, prior2)\n",
    "\n",
    "if npriors == 1:\n",
    "    k = tg.DummyKernel(prior_joint.marginal(0))\n",
    "elif npriors == 2:\n",
    "    k = tg.DummyKernel(prior_joint.marginal(0), prior_joint.marginal(1))\n",
    "else:\n",
    "    k = tg.DummyKernel(prior_joint.marginal(0), prior_joint.marginal(0), prior_joint.marginal(0))\n",
    "\n",
    "cov = tg.CovarianceTransport(k, noise=None)\n",
    "tgp = tg.TGP([cov], dt=None, annealing=0)\n",
    "\n",
    "tgp.sample_priors()\n",
    "tgp.plot_priors()"
   ]
  }
 ],
 "metadata": {
  "kernelspec": {
   "display_name": "Python 3 (ipykernel)",
   "language": "python",
   "name": "python3"
  },
  "language_info": {
   "codemirror_mode": {
    "name": "ipython",
    "version": 3
   },
   "file_extension": ".py",
   "mimetype": "text/x-python",
   "name": "python",
   "nbconvert_exporter": "python",
   "pygments_lexer": "ipython3",
   "version": "3.9.13"
  }
 },
 "nbformat": 4,
 "nbformat_minor": 5
}
