{
 "cells": [
  {
   "cell_type": "code",
   "execution_count": null,
   "id": "5c4318f2",
   "metadata": {},
   "outputs": [],
   "source": [
    "%reload_ext tgpy\n",
    "import sys\n",
    "# Hay que ejecutar esta línea antes de importar el módulo.\n",
    "sys.path.append(\"C:/Users/poker/PycharmProjects/tgpy\")\n",
    "# Ahora se puede importar el módulo.\n",
    "import tgpy as tg"
   ]
  },
  {
   "cell_type": "code",
   "execution_count": null,
   "id": "539122c8",
   "metadata": {},
   "outputs": [],
   "source": [
    "npriors = 3 # 1, 2, 3, 4\n",
    "ngroups = 4 # any positive int\n",
    "nparams = 500 # number of chains\n",
    "nitersSGD = 300"
   ]
  },
  {
   "cell_type": "markdown",
   "id": "5b2b121c",
   "metadata": {},
   "source": [
    "### Create Priors"
   ]
  },
  {
   "cell_type": "code",
   "execution_count": null,
   "id": "f0e65cce",
   "metadata": {},
   "outputs": [],
   "source": [
    "prior0 = tg.TgPrior('prior0', ['g{}'.format(i) for i in range(ngroups)], dim=nparams, \n",
    "                   low=-4, high=4, alpha=5, beta=5) # simetrico\n",
    "prior1 = tg.TgPrior('prior1', ['g{}'.format(i) for i in range(ngroups)], dim=nparams, \n",
    "                   low=-1, high=10, alpha=2, beta=3) # masa a la izquierda\n",
    "prior2 = tg.TgPrior('prior2', ['g{}'.format(i) for i in range(ngroups)], dim=nparams, \n",
    "                   low=-10, high=1, alpha=2, beta=1) # masa a la derecha\n",
    "prior3 = tg.TgPrior('prior3', ['g{}'.format(i) for i in range(ngroups)], dim=nparams, \n",
    "                   low=-4, high=4, alpha=0.5, beta=0.5) # doble masa\n",
    "\n",
    "                    \n",
    "if npriors == 1: \n",
    "    k = tg.DummyKernel(prior0)\n",
    "elif npriors == 2:\n",
    "    k = tg.DummyKernel(prior0, prior1)\n",
    "elif npriors == 3:\n",
    "    k = tg.DummyKernel(prior0, prior1, prior2) \n",
    "else:\n",
    "    k = tg.DummyKernel(prior0, prior1, prior2, prior3) \n",
    "\n",
    "\n",
    "cov = tg.CovarianceTransport(k, noise=None)\n",
    "tgp = tg.TGP([cov], dt=None, annealing=0)\n",
    "\n",
    "tgp.sample_priors()\n",
    "tgp.plot_priors()"
   ]
  },
  {
   "cell_type": "code",
   "execution_count": null,
   "id": "734c259a-46cf-4d12-bab1-f3c46f69eefd",
   "metadata": {},
   "outputs": [],
   "source": [
    "# Se guarda el sample de cada grupo\n",
    "sample_theo = tgp.get_priors(npriors=npriors, ngroups=ngroups)"
   ]
  },
  {
   "cell_type": "markdown",
   "id": "003489da",
   "metadata": {},
   "source": [
    "### SGD"
   ]
  },
  {
   "cell_type": "code",
   "execution_count": null,
   "id": "f8c33695",
   "metadata": {},
   "outputs": [],
   "source": [
    "learning = tg.TgLearning(tgp, lr=0.1)\n",
    "learning.execute_sgd(nitersSGD)\n",
    "#tgp.plot_priors(kde=False)"
   ]
  },
  {
   "cell_type": "code",
   "execution_count": null,
   "id": "8230ee7f-2c6d-48d4-ae41-991234fda8bc",
   "metadata": {},
   "outputs": [],
   "source": [
    "#learning.execute_svgd(niters)\n",
    "#tgp.plot_priors(kde=False)"
   ]
  },
  {
   "cell_type": "markdown",
   "id": "d7b6f072",
   "metadata": {},
   "source": [
    "### SVGD"
   ]
  },
  {
   "cell_type": "code",
   "execution_count": null,
   "id": "fe2b0afd",
   "metadata": {},
   "outputs": [],
   "source": [
    "niters = 30 # number of iterations\n",
    "nreview = 10 # number of review\n",
    "rprior= 0\n",
    "rgroup = 0"
   ]
  },
  {
   "cell_type": "code",
   "execution_count": null,
   "id": "2f16eef7",
   "metadata": {
    "scrolled": true
   },
   "outputs": [],
   "source": [
    "review_dict = learning.review(niters=niters, nreview=nreview, rprior=rprior, rgroup=rgroup) \n",
    "# hay alguna forma que salga las iteraciones totales en vez de 10 en 10 ?\n",
    "tgp.plot_priors(kde=False)"
   ]
  },
  {
   "cell_type": "code",
   "execution_count": null,
   "id": "6c02073a-00e1-41dd-8afe-6f08b3f34668",
   "metadata": {
    "scrolled": true
   },
   "outputs": [],
   "source": [
    "learning.plotKS(theorical=sample_theo, review_dict=review_dict, rprior=rprior, rgroup=rgroup)"
   ]
  },
  {
   "cell_type": "code",
   "execution_count": null,
   "id": "8f8f3250",
   "metadata": {},
   "outputs": [],
   "source": []
  },
  {
   "cell_type": "code",
   "execution_count": null,
   "id": "902cb8dd",
   "metadata": {},
   "outputs": [],
   "source": []
  },
  {
   "cell_type": "code",
   "execution_count": null,
   "id": "0579018e",
   "metadata": {},
   "outputs": [],
   "source": []
  },
  {
   "cell_type": "code",
   "execution_count": null,
   "id": "c7adc8fa",
   "metadata": {},
   "outputs": [],
   "source": []
  },
  {
   "cell_type": "code",
   "execution_count": null,
   "id": "af4a11d6",
   "metadata": {},
   "outputs": [],
   "source": []
  },
  {
   "cell_type": "code",
   "execution_count": null,
   "id": "51caf0bf",
   "metadata": {},
   "outputs": [],
   "source": []
  },
  {
   "cell_type": "code",
   "execution_count": null,
   "id": "479bb09c",
   "metadata": {},
   "outputs": [],
   "source": []
  },
  {
   "cell_type": "code",
   "execution_count": null,
   "id": "53cdba03",
   "metadata": {},
   "outputs": [],
   "source": []
  },
  {
   "cell_type": "code",
   "execution_count": null,
   "id": "996f9152",
   "metadata": {},
   "outputs": [],
   "source": []
  },
  {
   "cell_type": "code",
   "execution_count": null,
   "id": "e1373e4f",
   "metadata": {},
   "outputs": [],
   "source": []
  },
  {
   "cell_type": "code",
   "execution_count": null,
   "id": "320f7872",
   "metadata": {},
   "outputs": [],
   "source": []
  },
  {
   "cell_type": "code",
   "execution_count": null,
   "id": "dc022c06",
   "metadata": {},
   "outputs": [],
   "source": []
  }
 ],
 "metadata": {
  "kernelspec": {
   "display_name": "Python 3",
   "language": "python",
   "name": "python3"
  },
  "language_info": {
   "codemirror_mode": {
    "name": "ipython",
    "version": 3
   },
   "file_extension": ".py",
   "mimetype": "text/x-python",
   "name": "python",
   "nbconvert_exporter": "python",
   "pygments_lexer": "ipython3",
   "version": "3.8.8"
  },
  "toc": {
   "base_numbering": 1,
   "nav_menu": {},
   "number_sections": true,
   "sideBar": true,
   "skip_h1_title": false,
   "title_cell": "Table of Contents",
   "title_sidebar": "Contents",
   "toc_cell": false,
   "toc_position": {},
   "toc_section_display": true,
   "toc_window_display": false
  }
 },
 "nbformat": 4,
 "nbformat_minor": 5
}
