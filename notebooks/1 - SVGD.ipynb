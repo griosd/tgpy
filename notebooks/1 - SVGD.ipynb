{
 "cells": [
  {
   "cell_type": "code",
   "execution_count": null,
   "id": "5c4318f2",
   "metadata": {
    "scrolled": true
   },
   "outputs": [],
   "source": [
    "%reload_ext tgpy\n",
    "import tgpy as tg"
   ]
  },
  {
   "cell_type": "code",
   "execution_count": null,
   "id": "539122c8",
   "metadata": {},
   "outputs": [],
   "source": [
    "npriors = 2 # 1, 2, 3\n",
    "ngroups = 1 # any positive int\n",
    "nparams = 300 # number of chains\n",
    "niters = 300 # number of iterations"
   ]
  },
  {
   "cell_type": "markdown",
   "id": "5b2b121c",
   "metadata": {},
   "source": [
    "### Create Priors"
   ]
  },
  {
   "cell_type": "code",
   "execution_count": null,
   "id": "f0e65cce",
   "metadata": {
    "scrolled": true
   },
   "outputs": [],
   "source": [
    "prior0 = tg.TgPriorUnivariate('prior0', ['g{}'.format(i) for i in range(ngroups)], dim=nparams, \n",
    "                               low=-4, high=4, alpha=5, beta=5) # simetrico\n",
    "prior1 = tg.TgPriorUnivariate('prior1', ['g{}'.format(i) for i in range(ngroups)], dim=nparams, \n",
    "                               low=-1, high=10, alpha=2, beta=3) # masa a la izquierda\n",
    "prior2 = tg.TgPriorUnivariate('prior2', ['g{}'.format(i) for i in range(ngroups)], dim=nparams, \n",
    "                               low=-10, high=1, alpha=2, beta=1) # masa a la derecha\n",
    "\n",
    "if npriors == 1:\n",
    "    k = tg.DummyKernel(prior0)\n",
    "elif npriors == 2:\n",
    "    k = tg.DummyKernel(prior0, prior1)\n",
    "else:\n",
    "    k = tg.DummyKernel(prior0, prior1, prior2)\n",
    "\n",
    "\n",
    "cov = tg.CovarianceTransport(k, noise=None)\n",
    "tgp = tg.TGP([cov], dt=None, annealing=0)\n",
    "\n",
    "tgp.sample_priors()\n",
    "tgp.plot_priors()"
   ]
  },
  {
   "cell_type": "code",
   "execution_count": null,
   "id": "3950d70d",
   "metadata": {},
   "outputs": [],
   "source": [
    "prior01 = tg.TgPriorBivariate('prior01', [prior0, prior1], r=3, dim=nparams)\n",
    "prior01.sample_params()\n",
    "prior01.logp()\n",
    "prior01.plot()\n",
    "\n",
    "k = tg.DummyKernel(prior01)\n",
    "\n",
    "cov = tg.CovarianceTransport(k, noise=None)\n",
    "tgp01 = tg.TGP([cov], dt=None, annealing=0)\n",
    "\n",
    "learning01 = tg.TgLearning(tgp01, lr=0.1)\n",
    "len(learning01.parameters_list), learning01.parameters_list[0].shape"
   ]
  },
  {
   "cell_type": "markdown",
   "id": "003489da",
   "metadata": {},
   "source": [
    "### SGD"
   ]
  },
  {
   "cell_type": "code",
   "execution_count": null,
   "id": "f8c33695",
   "metadata": {
    "scrolled": true
   },
   "outputs": [],
   "source": [
    "learning = tg.TgLearning(tgp, lr=0.1)\n",
    "learning.execute_sgd(niters)\n",
    "tgp.plot_priors(kde=False)"
   ]
  },
  {
   "cell_type": "code",
   "execution_count": null,
   "id": "8f09198a",
   "metadata": {},
   "outputs": [],
   "source": [
    "learning = tg.TgLearning(tgp, lr=0.1)\n",
    "learning.execute_svgd(niters)\n",
    "tgp.plot_priors(kde=False)"
   ]
  },
  {
   "cell_type": "code",
   "execution_count": null,
   "id": "2f16eef7",
   "metadata": {
    "scrolled": true
   },
   "outputs": [],
   "source": [
    "learning01 = tg.TgLearning(tgp01, lr=0.1)\n",
    "learning01.execute_sgd(niters)\n",
    "tgp01.plot_priors()"
   ]
  },
  {
   "cell_type": "markdown",
   "id": "d7b6f072",
   "metadata": {},
   "source": [
    "### SVGD"
   ]
  },
  {
   "cell_type": "code",
   "execution_count": null,
   "id": "e4dd3fcf",
   "metadata": {
    "scrolled": false
   },
   "outputs": [],
   "source": [
    "learning01 = tg.TgLearning(tgp01, lr=0.01)\n",
    "learning01.execute_svgd(niters)\n",
    "tgp01.plot_priors()"
   ]
  },
  {
   "cell_type": "code",
   "execution_count": null,
   "id": "aa7a36ae",
   "metadata": {},
   "outputs": [],
   "source": [
    "tgp01.sample_priors()\n",
    "tgp01.plot_priors()"
   ]
  },
  {
   "cell_type": "code",
   "execution_count": null,
   "id": "cf6bd2ca",
   "metadata": {},
   "outputs": [],
   "source": []
  },
  {
   "cell_type": "code",
   "execution_count": null,
   "id": "542cd4c6",
   "metadata": {},
   "outputs": [],
   "source": []
  },
  {
   "cell_type": "code",
   "execution_count": null,
   "id": "e22fa2c4",
   "metadata": {},
   "outputs": [],
   "source": []
  },
  {
   "cell_type": "code",
   "execution_count": null,
   "id": "fb931b2d",
   "metadata": {},
   "outputs": [],
   "source": []
  },
  {
   "cell_type": "code",
   "execution_count": null,
   "id": "8f056df1",
   "metadata": {},
   "outputs": [],
   "source": []
  },
  {
   "cell_type": "code",
   "execution_count": null,
   "id": "d805ba0e",
   "metadata": {},
   "outputs": [],
   "source": []
  },
  {
   "cell_type": "code",
   "execution_count": null,
   "id": "056cb623",
   "metadata": {},
   "outputs": [],
   "source": []
  },
  {
   "cell_type": "code",
   "execution_count": null,
   "id": "30fcee12",
   "metadata": {},
   "outputs": [],
   "source": []
  },
  {
   "cell_type": "code",
   "execution_count": null,
   "id": "8b72b4bf",
   "metadata": {},
   "outputs": [],
   "source": []
  },
  {
   "cell_type": "code",
   "execution_count": null,
   "id": "a2a9cbb4",
   "metadata": {},
   "outputs": [],
   "source": []
  },
  {
   "cell_type": "code",
   "execution_count": null,
   "id": "fc58884e",
   "metadata": {},
   "outputs": [],
   "source": []
  },
  {
   "cell_type": "code",
   "execution_count": null,
   "id": "ce2c7869",
   "metadata": {},
   "outputs": [],
   "source": []
  }
 ],
 "metadata": {
  "kernelspec": {
   "display_name": "Python 3",
   "language": "python",
   "name": "python3"
  },
  "language_info": {
   "codemirror_mode": {
    "name": "ipython",
    "version": 3
   },
   "file_extension": ".py",
   "mimetype": "text/x-python",
   "name": "python",
   "nbconvert_exporter": "python",
   "pygments_lexer": "ipython3",
   "version": "3.8.8"
  },
  "toc": {
   "base_numbering": 1,
   "nav_menu": {},
   "number_sections": true,
   "sideBar": true,
   "skip_h1_title": false,
   "title_cell": "Table of Contents",
   "title_sidebar": "Contents",
   "toc_cell": false,
   "toc_position": {},
   "toc_section_display": true,
   "toc_window_display": false
  }
 },
 "nbformat": 4,
 "nbformat_minor": 5
}
