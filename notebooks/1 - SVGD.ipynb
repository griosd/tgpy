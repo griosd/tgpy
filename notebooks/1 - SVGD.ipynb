{
 "cells": [
  {
   "cell_type": "code",
   "execution_count": null,
   "id": "5c4318f2",
   "metadata": {},
   "outputs": [],
   "source": [
    "%reload_ext tgpy\n",
    "import tgpy as tg"
   ]
  },
  {
   "cell_type": "code",
   "execution_count": null,
   "id": "f0e65cce",
   "metadata": {
    "scrolled": false
   },
   "outputs": [],
   "source": [
    "npriors = 1\n",
    "nparams = 500\n",
    "niters = 300\n",
    "prior0 = tg.TgPrior('prior0', ['p{}'.format(i) for i in range(npriors)], dim=nparams, \n",
    "                   low=-4, high=4, alpha=5, beta=5)\n",
    "prior1 = tg.TgPrior('prior1', ['p{}'.format(i) for i in range(npriors)], dim=nparams, \n",
    "                   low=-1, high=10, alpha=2, beta=3)\n",
    "prior2 = tg.TgPrior('prior2', ['p{}'.format(i) for i in range(npriors)], dim=nparams, \n",
    "                   low=-10, high=1, alpha=2, beta=1.3)\n",
    "\n",
    "cov = tg.CovarianceTransport(tg.DummyKernel(prior0, prior1, prior2), noise=None)\n",
    "tgp = tg.TGP([cov], dt=None, annealing=0)\n",
    "\n",
    "tgp.sample_priors()\n",
    "tgp.plot_priors()"
   ]
  },
  {
   "cell_type": "code",
   "execution_count": null,
   "id": "f8c33695",
   "metadata": {
    "scrolled": false
   },
   "outputs": [],
   "source": [
    "learning = tg.TgLearning(tgp, lr=0.1, pbatch=0.8, rand_pert=0.0, pot=0, cycle=0.1)\n",
    "learning.execute_sgd(niters)\n",
    "tgp.plot_priors(kde=False)"
   ]
  },
  {
   "cell_type": "code",
   "execution_count": null,
   "id": "2f16eef7",
   "metadata": {
    "scrolled": false
   },
   "outputs": [],
   "source": [
    "learning.execute_svgd(niters)\n",
    "tgp.plot_priors(kde=True)"
   ]
  },
  {
   "cell_type": "code",
   "execution_count": null,
   "id": "5fea230e",
   "metadata": {
    "scrolled": false
   },
   "outputs": [],
   "source": [
    "[p.data.uniform_() for p in tgp.parameters()]\n",
    "tgp.plot_priors(kde=True)"
   ]
  },
  {
   "cell_type": "code",
   "execution_count": null,
   "id": "b62c1bed",
   "metadata": {
    "scrolled": false
   },
   "outputs": [],
   "source": [
    "learning.execute_svgd(niters)\n",
    "tgp.plot_priors(kde=True)"
   ]
  }
 ],
 "metadata": {
  "kernelspec": {
   "display_name": "Python 3",
   "language": "python",
   "name": "python3"
  },
  "language_info": {
   "codemirror_mode": {
    "name": "ipython",
    "version": 3
   },
   "file_extension": ".py",
   "mimetype": "text/x-python",
   "name": "python",
   "nbconvert_exporter": "python",
   "pygments_lexer": "ipython3",
   "version": "3.8.8"
  },
  "toc": {
   "base_numbering": 1,
   "nav_menu": {},
   "number_sections": true,
   "sideBar": true,
   "skip_h1_title": false,
   "title_cell": "Table of Contents",
   "title_sidebar": "Contents",
   "toc_cell": false,
   "toc_position": {},
   "toc_section_display": true,
   "toc_window_display": false
  }
 },
 "nbformat": 4,
 "nbformat_minor": 5
}
