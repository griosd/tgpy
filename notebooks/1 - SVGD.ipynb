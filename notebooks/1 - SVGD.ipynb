{
 "cells": [
  {
   "cell_type": "code",
   "execution_count": null,
   "id": "5c4318f2",
   "metadata": {},
   "outputs": [],
   "source": [
    "%reload_ext tgpy\n",
    "import tgpy as tg"
   ]
  },
  {
   "cell_type": "code",
   "execution_count": null,
   "id": "f0e65cce",
   "metadata": {
    "scrolled": true
   },
   "outputs": [],
   "source": [
    "npriors = 4\n",
    "nparams = 500\n",
    "prior = tg.TgPrior('prior', ['p{}'.format(i) for i in range(npriors)], dim=nparams, \n",
    "                   low=-4, high=4, alpha=5, beta=3)"
   ]
  },
  {
   "cell_type": "code",
   "execution_count": null,
   "id": "42c9cb90",
   "metadata": {},
   "outputs": [],
   "source": [
    "cov = tg.CovarianceTransport(None, noise=prior)\n",
    "tgp = tg.TGP([cov], dt=None, annealing=0)"
   ]
  },
  {
   "cell_type": "code",
   "execution_count": null,
   "id": "74cf5e8f",
   "metadata": {},
   "outputs": [],
   "source": [
    "tgp.sample_priors()\n",
    "tgp.plot_priors()"
   ]
  },
  {
   "cell_type": "code",
   "execution_count": null,
   "id": "36f35315",
   "metadata": {
    "scrolled": true
   },
   "outputs": [],
   "source": [
    "learning = tg.TgLearning(tgp, lr=0.1, pbatch=0.8, rand_pert=0.0, pot=0, cycle=0.1)"
   ]
  },
  {
   "cell_type": "code",
   "execution_count": null,
   "id": "f8c33695",
   "metadata": {
    "scrolled": false
   },
   "outputs": [],
   "source": [
    "learning.execute_sgd(1000)\n",
    "tgp.plot_priors(kde=False)"
   ]
  },
  {
   "cell_type": "code",
   "execution_count": null,
   "id": "2f16eef7",
   "metadata": {
    "scrolled": false
   },
   "outputs": [],
   "source": [
    "learning.execute_svgd(1000)\n",
    "tgp.plot_priors(kde=True)"
   ]
  },
  {
   "cell_type": "code",
   "execution_count": null,
   "id": "5fea230e",
   "metadata": {},
   "outputs": [],
   "source": [
    "[p.data.uniform_() for p in tgp.parameters()]\n",
    "tgp.plot_priors(kde=True)"
   ]
  },
  {
   "cell_type": "code",
   "execution_count": null,
   "id": "b62c1bed",
   "metadata": {},
   "outputs": [],
   "source": [
    "learning.execute_svgd(1000)\n",
    "tgp.plot_priors(kde=True)"
   ]
  }
 ],
 "metadata": {
  "kernelspec": {
   "display_name": "Python 3",
   "language": "python",
   "name": "python3"
  },
  "language_info": {
   "codemirror_mode": {
    "name": "ipython",
    "version": 3
   },
   "file_extension": ".py",
   "mimetype": "text/x-python",
   "name": "python",
   "nbconvert_exporter": "python",
   "pygments_lexer": "ipython3",
   "version": "3.8.8"
  },
  "toc": {
   "base_numbering": 1,
   "nav_menu": {},
   "number_sections": true,
   "sideBar": true,
   "skip_h1_title": false,
   "title_cell": "Table of Contents",
   "title_sidebar": "Contents",
   "toc_cell": false,
   "toc_position": {},
   "toc_section_display": true,
   "toc_window_display": false
  }
 },
 "nbformat": 4,
 "nbformat_minor": 5
}
