{
 "cells": [
  {
   "cell_type": "code",
   "execution_count": null,
   "id": "5c4318f2",
   "metadata": {},
   "outputs": [],
   "source": [
    "%reload_ext tgpy\n",
    "import tgpy as tg"
   ]
  },
  {
   "cell_type": "code",
   "execution_count": null,
   "id": "539122c8",
   "metadata": {},
   "outputs": [],
   "source": [
    "npriors = 1 # 1, 2, 3\n",
    "ngroups = 10 # any positive int\n",
    "nparams = 6000 # number of chains\n",
    "niters = 300 # number of iterations"
   ]
  },
  {
   "cell_type": "markdown",
   "id": "5b2b121c",
   "metadata": {},
   "source": [
    "### Create Priors"
   ]
  },
  {
   "cell_type": "code",
   "execution_count": null,
   "id": "f0e65cce",
   "metadata": {},
   "outputs": [],
   "source": [
    "prior0 = tg.TgPrior('prior0', ['g{}'.format(i) for i in range(ngroups)], dim=nparams, \n",
    "                   low=-4, high=4, alpha=5, beta=5) # simetrico\n",
    "prior1 = tg.TgPrior('prior1', ['g{}'.format(i) for i in range(ngroups)], dim=nparams, \n",
    "                   low=-1, high=10, alpha=2, beta=3) # masa a la izquierda\n",
    "prior2 = tg.TgPrior('prior2', ['g{}'.format(i) for i in range(ngroups)], dim=nparams, \n",
    "                   low=-10, high=1, alpha=2, beta=1) # masa a la derecha\n",
    "\n",
    "if npriors == 1:\n",
    "    k = tg.DummyKernel(prior0)\n",
    "elif npriors == 2:\n",
    "    k = tg.DummyKernel(prior0, prior1)\n",
    "else:\n",
    "    k = tg.DummyKernel(prior0, prior1, prior2)\n",
    "\n",
    "\n",
    "cov = tg.CovarianceTransport(k, noise=None)\n",
    "tgp = tg.TGP([cov], dt=None, annealing=0)\n",
    "\n",
    "tgp.sample_priors()\n",
    "tgp.plot_priors()"
   ]
  },
  {
   "cell_type": "markdown",
   "id": "003489da",
   "metadata": {},
   "source": [
    "### SGD"
   ]
  },
  {
   "cell_type": "code",
   "execution_count": null,
   "id": "f8c33695",
   "metadata": {},
   "outputs": [],
   "source": [
    "learning = tg.TgLearning(tgp, lr=0.1)\n",
    "learning.execute_sgd(niters)\n",
    "tgp.plot_priors(kde=False)"
   ]
  },
  {
   "cell_type": "markdown",
   "id": "d7b6f072",
   "metadata": {},
   "source": [
    "### SVGD"
   ]
  },
  {
   "cell_type": "code",
   "execution_count": null,
   "id": "2f16eef7",
   "metadata": {},
   "outputs": [],
   "source": [
    "learning.execute_svgd(niters)\n",
    "tgp.plot_priors(kde=True)"
   ]
  },
  {
   "cell_type": "markdown",
   "id": "67207f50",
   "metadata": {},
   "source": [
    "### Sample uniform"
   ]
  },
  {
   "cell_type": "code",
   "execution_count": null,
   "id": "5fea230e",
   "metadata": {},
   "outputs": [],
   "source": [
    "[p.data.uniform_() for p in tgp.parameters()]\n",
    "tgp.plot_priors(kde=True)"
   ]
  },
  {
   "cell_type": "markdown",
   "id": "dd31f3b5",
   "metadata": {},
   "source": [
    "### SVGD on uniform"
   ]
  },
  {
   "cell_type": "code",
   "execution_count": null,
   "id": "b62c1bed",
   "metadata": {},
   "outputs": [],
   "source": [
    "learning.execute_svgd(niters)\n",
    "tgp.plot_priors(kde=True)"
   ]
  }
 ],
 "metadata": {
  "kernelspec": {
   "display_name": "Python 3 (ipykernel)",
   "language": "python",
   "name": "python3"
  },
  "language_info": {
   "codemirror_mode": {
    "name": "ipython",
    "version": 3
   },
   "file_extension": ".py",
   "mimetype": "text/x-python",
   "name": "python",
   "nbconvert_exporter": "python",
   "pygments_lexer": "ipython3",
   "version": "3.9.13"
  },
  "toc": {
   "base_numbering": 1,
   "nav_menu": {},
   "number_sections": true,
   "sideBar": true,
   "skip_h1_title": false,
   "title_cell": "Table of Contents",
   "title_sidebar": "Contents",
   "toc_cell": false,
   "toc_position": {},
   "toc_section_display": true,
   "toc_window_display": false
  }
 },
 "nbformat": 4,
 "nbformat_minor": 5
}
