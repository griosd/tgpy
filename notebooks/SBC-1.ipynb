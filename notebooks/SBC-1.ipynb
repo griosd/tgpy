{
 "cells": [
  {
   "cell_type": "code",
   "execution_count": null,
   "id": "c8b190dd",
   "metadata": {},
   "outputs": [],
   "source": [
    "import sys\n",
    "# Hay que ejecutar esta línea antes de importar el módulo.\n",
    "#sys.path.append(\"C:/Users/Vicen/PycharmProjects/tgpy\")\n",
    "# Ahora se puede importar el módulo.\n",
    "%reload_ext tgpy\n",
    "import tgpy as tg\n",
    "import matplotlib.pyplot as plt\n",
    "import mpl_scatter_density\n",
    "import utm\n",
    "import pydeck as pdk\n",
    "import pandas as pd\n",
    "import numpy as np\n",
    "import seaborn as sb\n",
    "import random\n",
    "from scipy import signal\n",
    "from sklearn.metrics import mean_absolute_error"
   ]
  },
  {
   "cell_type": "code",
   "execution_count": null,
   "id": "6a223dea",
   "metadata": {},
   "outputs": [],
   "source": [
    "sb.set_context('notebook', font_scale=1.4)\n",
    "sb.set_style('ticks')\n",
    "plt.rcParams['figure.figsize'] = (12, 5)"
   ]
  },
  {
   "cell_type": "markdown",
   "id": "2d3b37bf",
   "metadata": {},
   "source": [
    "\n",
    "\n",
    "# Funcion de extrarccion de parametros:"
   ]
  },
  {
   "cell_type": "code",
   "execution_count": null,
   "id": "fbf4b7c3",
   "metadata": {},
   "outputs": [],
   "source": [
    "def get_priors_dt(self, npriors: int):\n",
    "    \"\"\"\n",
    "    Save the value of sample in a dict\n",
    "\n",
    "    :param npriors: an int, the number of groups\n",
    "    :return: a dict, value of sample for each prior and group\n",
    "    \"\"\"\n",
    "    prior_dict = {}\n",
    "    for i in range(npriors):\n",
    "            prior_dict[('prior{}'.format(i), 'Year')] = self._priors_dict['prior{}'.format(i)].p[\n",
    "                'Year'].data.clone().detach().cpu().numpy() # se ha adecuar a los como se guardo el dict de los parametros\n",
    "    return prior_dict"
   ]
  },
  {
   "cell_type": "markdown",
   "id": "da49c159",
   "metadata": {},
   "source": [
    "# Entranamiento de un GP: "
   ]
  },
  {
   "cell_type": "code",
   "execution_count": null,
   "id": "ce7ba84f",
   "metadata": {},
   "outputs": [],
   "source": [
    "Sunspots = pd.read_csv('Sunspots.csv')\n",
    "Sunspots['year'] = pd.DatetimeIndex(Sunspots['Date']).year\n",
    "Sunspots_train_anual = Sunspots[['year','Monthly Mean Total Sunspot Number']]\n",
    "Sunspots_train_anual = Sunspots_train_anual.groupby(\"year\", as_index=False).mean()\n",
    "Sunspots_train_anual = Sunspots_train_anual.iloc[51:272]\n",
    "(Sunspots_train_anual).reset_index(inplace=True, drop=True)\n",
    "S_train = Sunspots_train_anual"
   ]
  },
  {
   "cell_type": "code",
   "execution_count": null,
   "id": "34de4819",
   "metadata": {},
   "outputs": [],
   "source": [
    "S_train['year']"
   ]
  },
  {
   "cell_type": "code",
   "execution_count": null,
   "id": "f653ae47",
   "metadata": {},
   "outputs": [],
   "source": [
    "S_train['year'] = S_train['year']-S_train[\n",
    "    'year'].min()\n",
    "S_train"
   ]
  },
  {
   "cell_type": "code",
   "execution_count": null,
   "id": "65742848",
   "metadata": {},
   "outputs": [],
   "source": [
    "\n",
    "\n",
    "t_anual = S_train[\"year\"]-S_train[\"year\"]\n",
    "y_anual = S_train[\"Monthly Mean Total Sunspot Number\"]\n",
    "prop = 0.8\n",
    "obs = int(prop*len(t_anual))\n",
    "train_index_anual = list(range(obs))\n",
    "valid_index_anual = list(range(obs,len(t_anual)))\n",
    "t_obs_anual = t_anual[train_index_anual]\n",
    "y_obs_anual = y_anual[train_index_anual]\n",
    "t_val = t_anual[valid_index_anual]\n",
    "y_val = y_anual[valid_index_anual]\n",
    "\n"
   ]
  },
  {
   "cell_type": "code",
   "execution_count": null,
   "id": "9745cc35",
   "metadata": {
    "scrolled": true
   },
   "outputs": [],
   "source": [
    "valid_index_anual\n"
   ]
  },
  {
   "cell_type": "code",
   "execution_count": null,
   "id": "7e05e6c6",
   "metadata": {},
   "outputs": [],
   "source": [
    "S_train['Monthly Mean Total Sunspot Number'].mean()"
   ]
  },
  {
   "cell_type": "code",
   "execution_count": null,
   "id": "5064d22c",
   "metadata": {},
   "outputs": [],
   "source": [
    "y_obs_anual"
   ]
  },
  {
   "cell_type": "code",
   "execution_count": null,
   "id": "3297a008",
   "metadata": {},
   "outputs": [],
   "source": [
    "print(len(t_anual),len(t_obs_anual))"
   ]
  },
  {
   "cell_type": "code",
   "execution_count": null,
   "id": "7e5adbe4",
   "metadata": {},
   "outputs": [],
   "source": [
    "def train(tgp, sample_priors=True, niters=1000):\n",
    "    if sample_priors:\n",
    "        tgp.sample_priors()\n",
    "        tgp.plot_priors(kde=True)\n",
    "    learning = tg.TgLearning(tgp, lr=0.01, pbatch=0.8) #rand_pert=0.0\n",
    "    learning.execute_sgd(niters)\n",
    "    tgp.plot_priors(kde=True)"
   ]
  },
  {
   "cell_type": "code",
   "execution_count": null,
   "id": "4a442fe0",
   "metadata": {},
   "outputs": [],
   "source": [
    "#train_index_anual = sorted(tg.np.random.choice(train_index_anual, 100))"
   ]
  },
  {
   "cell_type": "markdown",
   "id": "0def526c",
   "metadata": {},
   "source": [
    "## Modelo Kernel SE"
   ]
  },
  {
   "cell_type": "code",
   "execution_count": null,
   "id": "9154bf67",
   "metadata": {},
   "outputs": [],
   "source": [
    "def model_se(df, index_obs, dim = 100): \n",
    "    inputs = ['year']\n",
    "    outputs = [\"Monthly Mean Total Sunspot Number\"]\n",
    "    dt = tg.DataTensor(df[inputs + outputs], inputs=inputs, outputs=outputs)\n",
    "    dt.calculate_scale(inputs=True, outputs=False, quantile=False)\n",
    "    \n",
    "    var_se = tg.TgPrior('var', ['Sunspots'], dim=dim, low=0.001, high=1, alpha=4, beta=2)\n",
    "    relevance = tg.TgPrior('relevance', ['year'], dim=dim, low=1, high=10, alpha=2, beta=4) #low = 0.0, high = 2\n",
    "    noise = tg.TgPrior('noise', ['noise'], dim=dim, low=0.0, high=0.1, alpha=2, beta=4)\n",
    "    shift = tg.TgPrior('shift', ['Sunspots'], dim=dim, low=-0.01, high=0.01, alpha=2, beta=4)\n",
    "    power = tg.TgPrior('power', ['Sunspots'], dim=dim, low=0.01, high=1.2, alpha=2, beta=4)\n",
    "    \n",
    "    kernel = tg.SE(var_se, relevance)\n",
    "    cov = tg.CovarianceTransport(kernel, noise=tg.WN(noise))\n",
    "    marginal = tg.MarginalTransport(tg.BoxCoxShift(power, shift) )\n",
    "    positive = tg.MarginalTransport(tg.Relu())\n",
    "    \n",
    "    tgp = tg.TGP([cov,marginal,positive], dt=dt)\n",
    "    tgp.obs(index_obs)\n",
    "    return tgp\n",
    "\n",
    "tgp_se = model_se(S_train, train_index_anual)"
   ]
  },
  {
   "cell_type": "code",
   "execution_count": null,
   "id": "a1e8cda9",
   "metadata": {
    "scrolled": true
   },
   "outputs": [],
   "source": [
    "tgp_se.plot_predict('Sunspots Gaussian Process SE', 'year', \"Monthly Mean Total Sunspot Number\", nsamples = 10, \n",
    "                    noise=False, plot_samples=False, statistic=\"Median\")"
   ]
  },
  {
   "cell_type": "markdown",
   "id": "f35efd5c",
   "metadata": {},
   "source": [
    "## Modelo entrenado SE"
   ]
  },
  {
   "cell_type": "code",
   "execution_count": null,
   "id": "e43c6b28",
   "metadata": {
    "scrolled": true
   },
   "outputs": [],
   "source": [
    "train(tgp_se)"
   ]
  },
  {
   "cell_type": "code",
   "execution_count": null,
   "id": "48f4264c",
   "metadata": {
    "scrolled": true
   },
   "outputs": [],
   "source": [
    "tgp_se.plot_predict('Sunspots Gaussian Process', 'Year', 'Yearly Mean of Total Sunspots Number',\n",
    "                    nsamples = 100, noise=False, plot_samples=False,\n",
    "                    ylim_by_CI=True)"
   ]
  },
  {
   "cell_type": "markdown",
   "id": "71930678",
   "metadata": {},
   "source": [
    "# Modelo Kernel SM"
   ]
  },
  {
   "cell_type": "code",
   "execution_count": null,
   "id": "908ee204",
   "metadata": {},
   "outputs": [],
   "source": [
    "y_anual.plot()"
   ]
  },
  {
   "cell_type": "code",
   "execution_count": null,
   "id": "088d0c39",
   "metadata": {},
   "outputs": [],
   "source": [
    "from scipy.signal import periodogram"
   ]
  },
  {
   "cell_type": "code",
   "execution_count": null,
   "id": "31ddc81f",
   "metadata": {},
   "outputs": [],
   "source": [
    "px, py = periodogram(y_anual.values)\n",
    "tg.plt.plot(1/px, py)\n",
    "tg.plt.xlim([0,15])"
   ]
  },
  {
   "cell_type": "code",
   "execution_count": null,
   "id": "27468f53",
   "metadata": {},
   "outputs": [],
   "source": [
    "def model_sm(df, index_obs, dim = 100): \n",
    "    inputs = ['year']\n",
    "    outputs = [\"Monthly Mean Total Sunspot Number\"]\n",
    "    dt = tg.DataTensor(df[inputs + outputs], inputs=inputs, outputs=outputs)\n",
    "    dt.calculate_scale(inputs=True, outputs=False, quantile=False)\n",
    "    \n",
    "    var_sm = tg.TgPrior('var', ['var'], dim=dim, low=0.0, high=0.05, alpha=4, beta=2)\n",
    "    relevance = tg.TgPrior('relevance', ['relevance'], dim=dim, low=70, high=80, alpha=2, beta=4) \n",
    "    period = tg.TgPrior('period', ['period'], dim=dim, low=10, high=12.5, alpha=2, beta=2)\n",
    "    kernel = tg.SM(var_sm, relevance, period)\n",
    "    \n",
    "    noise = tg.TgPrior('noise', ['noise'], dim=dim, low=0.01, high=0.1, alpha=2, beta=4)\n",
    "    shift = tg.TgPrior('shift', ['Sunspots'], dim=dim, low=-1, high=1, alpha=2, beta=4)\n",
    "    power = tg.TgPrior('power', ['Sunspots'], dim=dim, low=0.01, high=1.2, alpha=2, beta=4)\n",
    "    \n",
    "    cov = tg.CovarianceTransport(kernel, noise=tg.WN(noise))\n",
    "    marginal = tg.MarginalTransport(tg.BoxCoxShift(power, shift) )\n",
    "    positive = tg.MarginalTransport(tg.Relu())\n",
    "    \n",
    "    tgp = tg.TGP([cov, marginal, positive], dt=dt)\n",
    "    \n",
    "    tgp.obs(index_obs)\n",
    "    return tgp\n",
    "\n",
    "tgp_sm = model_sm(S_train, train_index_anual)\n",
    "\n",
    "tgp_sm.plot_predict('Sunspots Gaussian Process SE', 'year', \"Monthly Mean Total Sunspot Number\", nsamples = 100, \n",
    "                    noise=False, plot_samples=False, statistic=\"Median\")"
   ]
  },
  {
   "cell_type": "code",
   "execution_count": null,
   "id": "d8333c50",
   "metadata": {
    "scrolled": true
   },
   "outputs": [],
   "source": [
    "train(tgp_sm)"
   ]
  },
  {
   "cell_type": "code",
   "execution_count": null,
   "id": "eacc3b04",
   "metadata": {},
   "outputs": [],
   "source": [
    "tgp_sm.plot_predict('Sunspots Gaussian Process SE', 'year', \"Monthly Mean Total Sunspot Number\", nsamples = 100, \n",
    "                    noise=False, plot_samples=False, statistic=\"Median\")"
   ]
  },
  {
   "cell_type": "code",
   "execution_count": null,
   "id": "e08078c9",
   "metadata": {
    "scrolled": true
   },
   "outputs": [],
   "source": [
    "train(tgp_sm, sample_priors=False)"
   ]
  },
  {
   "cell_type": "code",
   "execution_count": null,
   "id": "34f32d04",
   "metadata": {},
   "outputs": [],
   "source": [
    "tgp_sm.plot_predict('Sunspots Gaussian Process SM', 'year', \"Monthly Mean Total Sunspot Number\", nsamples = 100, \n",
    "                    noise=False, plot_samples=False, statistic=\"Median\")"
   ]
  },
  {
   "cell_type": "code",
   "execution_count": null,
   "id": "88db767b",
   "metadata": {},
   "outputs": [],
   "source": [
    "tgp_sm.plot_predict('Sunspots Gaussian Process SM', 'year', \"Monthly Mean Total Sunspot Number\", nsamples = 100, \n",
    "                    noise=True, plot_samples=False, statistic=\"Median\")"
   ]
  },
  {
   "cell_type": "markdown",
   "id": "fc1bd835",
   "metadata": {},
   "source": [
    "# Modelo Kernel SM + SM"
   ]
  },
  {
   "cell_type": "code",
   "execution_count": null,
   "id": "37100f38",
   "metadata": {},
   "outputs": [],
   "source": [
    "y_anual.plot()"
   ]
  },
  {
   "cell_type": "code",
   "execution_count": null,
   "id": "b1ddd8ec",
   "metadata": {},
   "outputs": [],
   "source": [
    "from scipy.signal import periodogram"
   ]
  },
  {
   "cell_type": "code",
   "execution_count": null,
   "id": "3e968d5b",
   "metadata": {},
   "outputs": [],
   "source": [
    "px, py = periodogram(y_anual.values, nfft=1000)\n",
    "tg.plt.figure(1, figsize=(15,8))\n",
    "tg.plt.plot(1/px, py)\n",
    "tg.plt.xlim([0,150])"
   ]
  },
  {
   "cell_type": "code",
   "execution_count": null,
   "id": "2dccc86c",
   "metadata": {},
   "outputs": [],
   "source": [
    "def model_sm(df, index_obs, dim = 100): \n",
    "    inputs = ['year']\n",
    "    outputs = [\"Monthly Mean Total Sunspot Number\"]\n",
    "    dt = tg.DataTensor(df[inputs + outputs], inputs=inputs, outputs=outputs)\n",
    "    dt.calculate_scale(inputs=True, outputs=False, quantile=False)\n",
    "    \n",
    "    var_sm1 = tg.TgPrior('var1', ['var1'], dim=dim, low=0.0, high=0.05, alpha=4, beta=2)\n",
    "    relevance1 = tg.TgPrior('relevance1', ['relevance1'], dim=dim, low=70, high=80, alpha=2, beta=4) \n",
    "    period1 = tg.TgPrior('period1', ['period1'], dim=dim, low=10, high=12.5, alpha=2, beta=2)\n",
    "    kernel1 = tg.SM(var_sm1, relevance1, period1)\n",
    "    \n",
    "    var_sm2 = tg.TgPrior('var2', ['var2'], dim=dim, low=0.0, high=0.05, alpha=4, beta=2)\n",
    "    relevance2 = tg.TgPrior('relevance2', ['relevance2'], dim=dim, low=70, high=80, alpha=2, beta=4) \n",
    "    period2 = tg.TgPrior('period2', ['period2'], dim=dim, low=90, high=120, alpha=2, beta=2)\n",
    "    kernel2 = tg.SM(var_sm2, relevance2, period2)\n",
    "    \n",
    "    \n",
    "    \n",
    "    \n",
    "    noise = tg.TgPrior('noise', ['noise'], dim=dim, low=0.01, high=0.1, alpha=2, beta=4)\n",
    "    shift = tg.TgPrior('shift', ['Sunspots'], dim=dim, low=-1, high=1, alpha=2, beta=4)\n",
    "    power = tg.TgPrior('power', ['Sunspots'], dim=dim, low=0.01, high=1.2, alpha=2, beta=4)\n",
    "    \n",
    "    cov = tg.CovarianceTransport(kernel1 + kernel2, noise=tg.WN(noise))\n",
    "    marginal = tg.MarginalTransport(tg.BoxCoxShift(power, shift) )\n",
    "    positive = tg.MarginalTransport(tg.Relu())\n",
    "    \n",
    "    tgp = tg.TGP([cov, marginal, positive], dt=dt)\n",
    "    \n",
    "    tgp.obs(index_obs)\n",
    "    return tgp\n",
    "\n",
    "tgp_sm = model_sm(S_train, train_index_anual)\n",
    "\n",
    "tgp_sm.plot_predict('Sunspots Gaussian Process SE', 'year', \"Monthly Mean Total Sunspot Number\", nsamples = 100, \n",
    "                    noise=False, plot_samples=False, statistic=\"Median\")"
   ]
  },
  {
   "cell_type": "code",
   "execution_count": null,
   "id": "c9b41a39",
   "metadata": {
    "scrolled": true
   },
   "outputs": [],
   "source": [
    "train(tgp_sm)"
   ]
  },
  {
   "cell_type": "code",
   "execution_count": null,
   "id": "c4c2b027",
   "metadata": {},
   "outputs": [],
   "source": [
    "tgp_sm.plot_predict('Sunspots Gaussian Process SE', 'year', \"Monthly Mean Total Sunspot Number\", nsamples = 100, \n",
    "                    noise=False, plot_samples=False, statistic=\"Median\")"
   ]
  },
  {
   "cell_type": "code",
   "execution_count": null,
   "id": "c8d1c290",
   "metadata": {
    "scrolled": true
   },
   "outputs": [],
   "source": [
    "train(tgp_sm, sample_priors=False)"
   ]
  },
  {
   "cell_type": "code",
   "execution_count": null,
   "id": "03ed7f76",
   "metadata": {},
   "outputs": [],
   "source": [
    "tgp_sm.plot_predict('Sunspots Gaussian Process SM', 'year', \"Monthly Mean Total Sunspot Number\", nsamples = 100, \n",
    "                    noise=False, plot_samples=False, statistic=\"Median\")"
   ]
  },
  {
   "cell_type": "code",
   "execution_count": null,
   "id": "67272520",
   "metadata": {},
   "outputs": [],
   "source": [
    "tgp_sm.plot_predict('Sunspots Gaussian Process SM', 'year', \"Monthly Mean Total Sunspot Number\", nsamples = 100, \n",
    "                    noise=True, plot_samples=False, statistic=\"Median\")"
   ]
  },
  {
   "cell_type": "markdown",
   "id": "d6cb008c",
   "metadata": {},
   "source": [
    "# Modelo Kernel SM + SM + SE"
   ]
  },
  {
   "cell_type": "code",
   "execution_count": null,
   "id": "ecc89d9b",
   "metadata": {},
   "outputs": [],
   "source": [
    "y_anual.plot()"
   ]
  },
  {
   "cell_type": "code",
   "execution_count": null,
   "id": "c50f1184",
   "metadata": {},
   "outputs": [],
   "source": [
    "from scipy.signal import periodogram"
   ]
  },
  {
   "cell_type": "code",
   "execution_count": null,
   "id": "88a373e0",
   "metadata": {},
   "outputs": [],
   "source": [
    "px, py = periodogram(y_anual.values, nfft=1000)\n",
    "tg.plt.figure(1, figsize=(15,8))\n",
    "tg.plt.plot(1/px, py)\n",
    "tg.plt.xlim([0,150])"
   ]
  },
  {
   "cell_type": "code",
   "execution_count": null,
   "id": "27468f53",
   "metadata": {},
   "outputs": [],
   "source": [
    "def model_sm(df, index_obs, dim = 100): \n",
    "    inputs = ['year']\n",
    "    outputs = [\"Monthly Mean Total Sunspot Number\"]\n",
    "    dt = tg.DataTensor(df[inputs + outputs], inputs=inputs, outputs=outputs)\n",
    "    dt.calculate_scale(inputs=True, outputs=False, quantile=False)\n",
    "    \n",
    "    var_sm1 = tg.TgPrior('var1', ['var1'], dim=dim, low=0.0, high=0.05, alpha=4, beta=2)\n",
    "    relevance1 = tg.TgPrior('relevance1', ['relevance1'], dim=dim, low=70, high=80, alpha=2, beta=4) \n",
    "    period1 = tg.TgPrior('period1', ['period1'], dim=dim, low=10, high=12.5, alpha=2, beta=2)\n",
    "    kernel1 = tg.SM(var_sm1, relevance1, period1)\n",
    "    \n",
    "    var_sm2 = tg.TgPrior('var2', ['var2'], dim=dim, low=0.0, high=0.05, alpha=4, beta=2)\n",
    "    relevance2 = tg.TgPrior('relevance2', ['relevance2'], dim=dim, low=70, high=80, alpha=2, beta=4) \n",
    "    period2 = tg.TgPrior('period2', ['period2'], dim=dim, low=90, high=120, alpha=2, beta=2)\n",
    "    kernel2 = tg.SM(var_sm2, relevance2, period2)\n",
    "    \n",
    "    var_se = tg.TgPrior('var3', ['var3'], dim=dim, low=0.0, high=0.05, alpha=4, beta=2)\n",
    "    relevance3 = tg.TgPrior('relevance3', ['relevance3'], dim=dim, low=0, high=10, alpha=2, beta=4) \n",
    "    kernel3 = tg.SE(var_se, relevance3)   \n",
    "    \n",
    "    noise = tg.TgPrior('noise', ['noise'], dim=dim, low=0.01, high=0.1, alpha=2, beta=4)\n",
    "    shift = tg.TgPrior('shift', ['Sunspots'], dim=dim, low=-1, high=1, alpha=2, beta=4)\n",
    "    power = tg.TgPrior('power', ['Sunspots'], dim=dim, low=0.01, high=1.2, alpha=2, beta=4)\n",
    "    \n",
    "    cov = tg.CovarianceTransport(kernel1 + kernel2 + kernel3, noise=tg.WN(noise))\n",
    "    marginal = tg.MarginalTransport(tg.BoxCoxShift(power, shift) )\n",
    "    positive = tg.MarginalTransport(tg.Relu())\n",
    "    \n",
    "    tgp = tg.TGP([cov, marginal, positive], dt=dt)\n",
    "    \n",
    "    tgp.obs(index_obs)\n",
    "    return tgp\n",
    "\n",
    "tgp_sm = model_sm(S_train, train_index_anual)\n",
    "\n",
    "tgp_sm.plot_predict('Sunspots Gaussian Process SE', 'year', \"Monthly Mean Total Sunspot Number\", nsamples = 100, \n",
    "                    noise=False, plot_samples=False, statistic=\"Median\")"
   ]
  },
  {
   "cell_type": "code",
   "execution_count": null,
   "id": "d8333c50",
   "metadata": {
    "scrolled": true
   },
   "outputs": [],
   "source": [
    "train(tgp_sm)"
   ]
  },
  {
   "cell_type": "code",
   "execution_count": null,
   "id": "eacc3b04",
   "metadata": {},
   "outputs": [],
   "source": [
    "tgp_sm.plot_predict('Sunspots Gaussian Process SE', 'year', \"Monthly Mean Total Sunspot Number\", nsamples = 100, \n",
    "                    noise=False, plot_samples=False, statistic=\"Median\")"
   ]
  },
  {
   "cell_type": "code",
   "execution_count": null,
   "id": "c2895452",
   "metadata": {
    "scrolled": true
   },
   "outputs": [],
   "source": [
    "train(tgp_sm, sample_priors=False)"
   ]
  },
  {
   "cell_type": "code",
   "execution_count": null,
   "id": "68e877a6",
   "metadata": {},
   "outputs": [],
   "source": [
    "tgp_sm.plot_predict('Sunspots Gaussian Process SM', 'year', \"Monthly Mean Total Sunspot Number\", nsamples = 100, \n",
    "                    noise=False, plot_samples=False, statistic=\"Median\")"
   ]
  },
  {
   "cell_type": "code",
   "execution_count": null,
   "id": "f18465ff",
   "metadata": {},
   "outputs": [],
   "source": [
    "tgp_sm.plot_predict('Sunspots Gaussian Process SM', 'year', \"Monthly Mean Total Sunspot Number\", nsamples = 100, \n",
    "                    noise=True, plot_samples=False, statistic=\"Median\")"
   ]
  },
  {
   "cell_type": "code",
   "execution_count": null,
   "id": "612559a1",
   "metadata": {},
   "outputs": [],
   "source": []
  }
 ],
 "metadata": {
  "kernelspec": {
   "display_name": "Python 3",
   "language": "python",
   "name": "python3"
  },
  "language_info": {
   "codemirror_mode": {
    "name": "ipython",
    "version": 3
   },
   "file_extension": ".py",
   "mimetype": "text/x-python",
   "name": "python",
   "nbconvert_exporter": "python",
   "pygments_lexer": "ipython3",
   "version": "3.8.8"
  },
  "toc": {
   "base_numbering": 1,
   "nav_menu": {},
   "number_sections": true,
   "sideBar": true,
   "skip_h1_title": false,
   "title_cell": "Table of Contents",
   "title_sidebar": "Contents",
   "toc_cell": false,
   "toc_position": {},
   "toc_section_display": true,
   "toc_window_display": false
  }
 },
 "nbformat": 4,
 "nbformat_minor": 5
}
